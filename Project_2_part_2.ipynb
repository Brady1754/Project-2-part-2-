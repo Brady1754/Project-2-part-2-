{
  "nbformat": 4,
  "nbformat_minor": 0,
  "metadata": {
    "colab": {
      "name": "Project 2 part 2 ",
      "provenance": []
    },
    "kernelspec": {
      "name": "python3",
      "display_name": "Python 3"
    },
    "language_info": {
      "name": "python"
    }
  },
  "cells": [
    {
      "cell_type": "code",
      "execution_count": 4,
      "metadata": {
        "colab": {
          "base_uri": "https://localhost:8080/",
          "height": 540
        },
        "id": "FgL9nyMJYn1I",
        "outputId": "3a47412e-5251-456b-baa1-8b03c15f6280"
      },
      "outputs": [
        {
          "output_type": "execute_result",
          "data": {
            "text/plain": [
              "                                          Unnamed: 0  \\\n",
              "0                       Meal, Inexpensive Restaurant   \n",
              "1  Meal for 2 People, Mid-range Restaurant, Three...   \n",
              "2     McMeal at McDonalds (or Equivalent Combo Meal)   \n",
              "3                  Domestic Beer (0.5 liter draught)   \n",
              "4                  Imported Beer (0.33 liter bottle)   \n",
              "\n",
              "   Saint Petersburg, Russia  Istanbul, Turkey  Izmir, Turkey  \\\n",
              "0                      7.34              4.58           3.06   \n",
              "1                     29.35             15.28          12.22   \n",
              "2                      4.40              3.82           3.06   \n",
              "3                      2.20              3.06           2.29   \n",
              "4                      2.20              3.06           2.75   \n",
              "\n",
              "   Helsinki, Finland  Chisinau, Moldova  Milan, Italy  Cairo, Egypt  \\\n",
              "0              12.00               4.67          15.0          3.38   \n",
              "1              65.00              20.74          60.0         17.48   \n",
              "2               8.00               4.15           8.0          4.51   \n",
              "3               6.50               1.04           5.0          1.69   \n",
              "4               6.75               1.43           5.0          2.82   \n",
              "\n",
              "   Banja Luka, Bosnia And Herzegovina  Baku, Azerbaijan  ...  Lviv, Ukraine  \\\n",
              "0                                3.58              5.27  ...           3.75   \n",
              "1                               22.99             23.73  ...          18.76   \n",
              "2                                3.58              4.22  ...           3.56   \n",
              "3                                1.02              0.84  ...           1.50   \n",
              "4                                1.53              2.11  ...           1.50   \n",
              "\n",
              "   Novosibirsk, Russia  Bursa, Turkey  Brussels, Belgium  Jerusalem, Israel  \\\n",
              "0                 5.72           3.82               15.0              15.56   \n",
              "1                22.01          11.47               60.0              62.24   \n",
              "2                 3.67           3.06                8.2              12.97   \n",
              "3                 1.10           2.37                4.0               7.26   \n",
              "4                 2.20           3.06                4.0               7.26   \n",
              "\n",
              "   Melbourne, Australia  Perth, Australia  Sydney, Australia  \\\n",
              "0                 10.22             12.43              11.81   \n",
              "1                 49.54             56.55              54.37   \n",
              "2                  7.12              7.32               7.15   \n",
              "3                  5.57              5.90               4.97   \n",
              "4                  5.57              5.59               4.97   \n",
              "\n",
              "   Alexandria, Egypt  Quito, Ecuador  \n",
              "0               2.81            3.59  \n",
              "1              14.06           31.45  \n",
              "2               3.38            5.39  \n",
              "3               1.69            1.35  \n",
              "4               2.81            2.70  \n",
              "\n",
              "[5 rows x 161 columns]"
            ],
            "text/html": [
              "\n",
              "  <div id=\"df-70c37dd0-a4eb-4302-b860-04ce9c4d016a\">\n",
              "    <div class=\"colab-df-container\">\n",
              "      <div>\n",
              "<style scoped>\n",
              "    .dataframe tbody tr th:only-of-type {\n",
              "        vertical-align: middle;\n",
              "    }\n",
              "\n",
              "    .dataframe tbody tr th {\n",
              "        vertical-align: top;\n",
              "    }\n",
              "\n",
              "    .dataframe thead th {\n",
              "        text-align: right;\n",
              "    }\n",
              "</style>\n",
              "<table border=\"1\" class=\"dataframe\">\n",
              "  <thead>\n",
              "    <tr style=\"text-align: right;\">\n",
              "      <th></th>\n",
              "      <th>Unnamed: 0</th>\n",
              "      <th>Saint Petersburg, Russia</th>\n",
              "      <th>Istanbul, Turkey</th>\n",
              "      <th>Izmir, Turkey</th>\n",
              "      <th>Helsinki, Finland</th>\n",
              "      <th>Chisinau, Moldova</th>\n",
              "      <th>Milan, Italy</th>\n",
              "      <th>Cairo, Egypt</th>\n",
              "      <th>Banja Luka, Bosnia And Herzegovina</th>\n",
              "      <th>Baku, Azerbaijan</th>\n",
              "      <th>...</th>\n",
              "      <th>Lviv, Ukraine</th>\n",
              "      <th>Novosibirsk, Russia</th>\n",
              "      <th>Bursa, Turkey</th>\n",
              "      <th>Brussels, Belgium</th>\n",
              "      <th>Jerusalem, Israel</th>\n",
              "      <th>Melbourne, Australia</th>\n",
              "      <th>Perth, Australia</th>\n",
              "      <th>Sydney, Australia</th>\n",
              "      <th>Alexandria, Egypt</th>\n",
              "      <th>Quito, Ecuador</th>\n",
              "    </tr>\n",
              "  </thead>\n",
              "  <tbody>\n",
              "    <tr>\n",
              "      <th>0</th>\n",
              "      <td>Meal, Inexpensive Restaurant</td>\n",
              "      <td>7.34</td>\n",
              "      <td>4.58</td>\n",
              "      <td>3.06</td>\n",
              "      <td>12.00</td>\n",
              "      <td>4.67</td>\n",
              "      <td>15.0</td>\n",
              "      <td>3.38</td>\n",
              "      <td>3.58</td>\n",
              "      <td>5.27</td>\n",
              "      <td>...</td>\n",
              "      <td>3.75</td>\n",
              "      <td>5.72</td>\n",
              "      <td>3.82</td>\n",
              "      <td>15.0</td>\n",
              "      <td>15.56</td>\n",
              "      <td>10.22</td>\n",
              "      <td>12.43</td>\n",
              "      <td>11.81</td>\n",
              "      <td>2.81</td>\n",
              "      <td>3.59</td>\n",
              "    </tr>\n",
              "    <tr>\n",
              "      <th>1</th>\n",
              "      <td>Meal for 2 People, Mid-range Restaurant, Three...</td>\n",
              "      <td>29.35</td>\n",
              "      <td>15.28</td>\n",
              "      <td>12.22</td>\n",
              "      <td>65.00</td>\n",
              "      <td>20.74</td>\n",
              "      <td>60.0</td>\n",
              "      <td>17.48</td>\n",
              "      <td>22.99</td>\n",
              "      <td>23.73</td>\n",
              "      <td>...</td>\n",
              "      <td>18.76</td>\n",
              "      <td>22.01</td>\n",
              "      <td>11.47</td>\n",
              "      <td>60.0</td>\n",
              "      <td>62.24</td>\n",
              "      <td>49.54</td>\n",
              "      <td>56.55</td>\n",
              "      <td>54.37</td>\n",
              "      <td>14.06</td>\n",
              "      <td>31.45</td>\n",
              "    </tr>\n",
              "    <tr>\n",
              "      <th>2</th>\n",
              "      <td>McMeal at McDonalds (or Equivalent Combo Meal)</td>\n",
              "      <td>4.40</td>\n",
              "      <td>3.82</td>\n",
              "      <td>3.06</td>\n",
              "      <td>8.00</td>\n",
              "      <td>4.15</td>\n",
              "      <td>8.0</td>\n",
              "      <td>4.51</td>\n",
              "      <td>3.58</td>\n",
              "      <td>4.22</td>\n",
              "      <td>...</td>\n",
              "      <td>3.56</td>\n",
              "      <td>3.67</td>\n",
              "      <td>3.06</td>\n",
              "      <td>8.2</td>\n",
              "      <td>12.97</td>\n",
              "      <td>7.12</td>\n",
              "      <td>7.32</td>\n",
              "      <td>7.15</td>\n",
              "      <td>3.38</td>\n",
              "      <td>5.39</td>\n",
              "    </tr>\n",
              "    <tr>\n",
              "      <th>3</th>\n",
              "      <td>Domestic Beer (0.5 liter draught)</td>\n",
              "      <td>2.20</td>\n",
              "      <td>3.06</td>\n",
              "      <td>2.29</td>\n",
              "      <td>6.50</td>\n",
              "      <td>1.04</td>\n",
              "      <td>5.0</td>\n",
              "      <td>1.69</td>\n",
              "      <td>1.02</td>\n",
              "      <td>0.84</td>\n",
              "      <td>...</td>\n",
              "      <td>1.50</td>\n",
              "      <td>1.10</td>\n",
              "      <td>2.37</td>\n",
              "      <td>4.0</td>\n",
              "      <td>7.26</td>\n",
              "      <td>5.57</td>\n",
              "      <td>5.90</td>\n",
              "      <td>4.97</td>\n",
              "      <td>1.69</td>\n",
              "      <td>1.35</td>\n",
              "    </tr>\n",
              "    <tr>\n",
              "      <th>4</th>\n",
              "      <td>Imported Beer (0.33 liter bottle)</td>\n",
              "      <td>2.20</td>\n",
              "      <td>3.06</td>\n",
              "      <td>2.75</td>\n",
              "      <td>6.75</td>\n",
              "      <td>1.43</td>\n",
              "      <td>5.0</td>\n",
              "      <td>2.82</td>\n",
              "      <td>1.53</td>\n",
              "      <td>2.11</td>\n",
              "      <td>...</td>\n",
              "      <td>1.50</td>\n",
              "      <td>2.20</td>\n",
              "      <td>3.06</td>\n",
              "      <td>4.0</td>\n",
              "      <td>7.26</td>\n",
              "      <td>5.57</td>\n",
              "      <td>5.59</td>\n",
              "      <td>4.97</td>\n",
              "      <td>2.81</td>\n",
              "      <td>2.70</td>\n",
              "    </tr>\n",
              "  </tbody>\n",
              "</table>\n",
              "<p>5 rows × 161 columns</p>\n",
              "</div>\n",
              "      <button class=\"colab-df-convert\" onclick=\"convertToInteractive('df-70c37dd0-a4eb-4302-b860-04ce9c4d016a')\"\n",
              "              title=\"Convert this dataframe to an interactive table.\"\n",
              "              style=\"display:none;\">\n",
              "        \n",
              "  <svg xmlns=\"http://www.w3.org/2000/svg\" height=\"24px\"viewBox=\"0 0 24 24\"\n",
              "       width=\"24px\">\n",
              "    <path d=\"M0 0h24v24H0V0z\" fill=\"none\"/>\n",
              "    <path d=\"M18.56 5.44l.94 2.06.94-2.06 2.06-.94-2.06-.94-.94-2.06-.94 2.06-2.06.94zm-11 1L8.5 8.5l.94-2.06 2.06-.94-2.06-.94L8.5 2.5l-.94 2.06-2.06.94zm10 10l.94 2.06.94-2.06 2.06-.94-2.06-.94-.94-2.06-.94 2.06-2.06.94z\"/><path d=\"M17.41 7.96l-1.37-1.37c-.4-.4-.92-.59-1.43-.59-.52 0-1.04.2-1.43.59L10.3 9.45l-7.72 7.72c-.78.78-.78 2.05 0 2.83L4 21.41c.39.39.9.59 1.41.59.51 0 1.02-.2 1.41-.59l7.78-7.78 2.81-2.81c.8-.78.8-2.07 0-2.86zM5.41 20L4 18.59l7.72-7.72 1.47 1.35L5.41 20z\"/>\n",
              "  </svg>\n",
              "      </button>\n",
              "      \n",
              "  <style>\n",
              "    .colab-df-container {\n",
              "      display:flex;\n",
              "      flex-wrap:wrap;\n",
              "      gap: 12px;\n",
              "    }\n",
              "\n",
              "    .colab-df-convert {\n",
              "      background-color: #E8F0FE;\n",
              "      border: none;\n",
              "      border-radius: 50%;\n",
              "      cursor: pointer;\n",
              "      display: none;\n",
              "      fill: #1967D2;\n",
              "      height: 32px;\n",
              "      padding: 0 0 0 0;\n",
              "      width: 32px;\n",
              "    }\n",
              "\n",
              "    .colab-df-convert:hover {\n",
              "      background-color: #E2EBFA;\n",
              "      box-shadow: 0px 1px 2px rgba(60, 64, 67, 0.3), 0px 1px 3px 1px rgba(60, 64, 67, 0.15);\n",
              "      fill: #174EA6;\n",
              "    }\n",
              "\n",
              "    [theme=dark] .colab-df-convert {\n",
              "      background-color: #3B4455;\n",
              "      fill: #D2E3FC;\n",
              "    }\n",
              "\n",
              "    [theme=dark] .colab-df-convert:hover {\n",
              "      background-color: #434B5C;\n",
              "      box-shadow: 0px 1px 3px 1px rgba(0, 0, 0, 0.15);\n",
              "      filter: drop-shadow(0px 1px 2px rgba(0, 0, 0, 0.3));\n",
              "      fill: #FFFFFF;\n",
              "    }\n",
              "  </style>\n",
              "\n",
              "      <script>\n",
              "        const buttonEl =\n",
              "          document.querySelector('#df-70c37dd0-a4eb-4302-b860-04ce9c4d016a button.colab-df-convert');\n",
              "        buttonEl.style.display =\n",
              "          google.colab.kernel.accessAllowed ? 'block' : 'none';\n",
              "\n",
              "        async function convertToInteractive(key) {\n",
              "          const element = document.querySelector('#df-70c37dd0-a4eb-4302-b860-04ce9c4d016a');\n",
              "          const dataTable =\n",
              "            await google.colab.kernel.invokeFunction('convertToInteractive',\n",
              "                                                     [key], {});\n",
              "          if (!dataTable) return;\n",
              "\n",
              "          const docLinkHtml = 'Like what you see? Visit the ' +\n",
              "            '<a target=\"_blank\" href=https://colab.research.google.com/notebooks/data_table.ipynb>data table notebook</a>'\n",
              "            + ' to learn more about interactive tables.';\n",
              "          element.innerHTML = '';\n",
              "          dataTable['output_type'] = 'display_data';\n",
              "          await google.colab.output.renderOutput(dataTable, element);\n",
              "          const docLink = document.createElement('div');\n",
              "          docLink.innerHTML = docLinkHtml;\n",
              "          element.appendChild(docLink);\n",
              "        }\n",
              "      </script>\n",
              "    </div>\n",
              "  </div>\n",
              "  "
            ]
          },
          "metadata": {},
          "execution_count": 4
        }
      ],
      "source": [
        "import requests \n",
        "import pandas as pd\n",
        "url= 'https://raw.githubusercontent.com/Brady1754/Brady-NFL-Stats-/main/cost-of-living.csv'\n",
        "df = pd.read_csv(url)\n",
        "df.head()\n"
      ]
    },
    {
      "cell_type": "code",
      "source": [
        "from sklearn.linear_model import LinearRegression"
      ],
      "metadata": {
        "id": "fil7NBgm04f3"
      },
      "execution_count": 5,
      "outputs": []
    },
    {
      "cell_type": "code",
      "source": [
        "lm = LinearRegression()\n",
        "lm"
      ],
      "metadata": {
        "colab": {
          "base_uri": "https://localhost:8080/"
        },
        "id": "njvtP-qb0-Gc",
        "outputId": "294b8a8f-86a8-4300-cd46-5563f7fdbfb0"
      },
      "execution_count": 6,
      "outputs": [
        {
          "output_type": "execute_result",
          "data": {
            "text/plain": [
              "LinearRegression()"
            ]
          },
          "metadata": {},
          "execution_count": 6
        }
      ]
    },
    {
      "cell_type": "code",
      "source": [
        "X = df[['Lviv,Ukraine']]\n",
        "Y = df['Imported Beer']"
      ],
      "metadata": {
        "colab": {
          "base_uri": "https://localhost:8080/",
          "height": 328
        },
        "id": "mrRPJ4Ny1Bjs",
        "outputId": "b399cafa-c202-4a2e-ecc4-0b37ade4ff58"
      },
      "execution_count": 12,
      "outputs": [
        {
          "output_type": "error",
          "ename": "KeyError",
          "evalue": "ignored",
          "traceback": [
            "\u001b[0;31m---------------------------------------------------------------------------\u001b[0m",
            "\u001b[0;31mKeyError\u001b[0m                                  Traceback (most recent call last)",
            "\u001b[0;32m<ipython-input-12-f5fee04e7f24>\u001b[0m in \u001b[0;36m<module>\u001b[0;34m()\u001b[0m\n\u001b[0;32m----> 1\u001b[0;31m \u001b[0mX\u001b[0m \u001b[0;34m=\u001b[0m \u001b[0mdf\u001b[0m\u001b[0;34m[\u001b[0m\u001b[0;34m[\u001b[0m\u001b[0;34m'Lviv,Ukraine'\u001b[0m\u001b[0;34m]\u001b[0m\u001b[0;34m]\u001b[0m\u001b[0;34m\u001b[0m\u001b[0;34m\u001b[0m\u001b[0m\n\u001b[0m\u001b[1;32m      2\u001b[0m \u001b[0mY\u001b[0m \u001b[0;34m=\u001b[0m \u001b[0mdf\u001b[0m\u001b[0;34m[\u001b[0m\u001b[0;34m'Imported Beer'\u001b[0m\u001b[0;34m]\u001b[0m\u001b[0;34m\u001b[0m\u001b[0;34m\u001b[0m\u001b[0m\n",
            "\u001b[0;32m/usr/local/lib/python3.7/dist-packages/pandas/core/frame.py\u001b[0m in \u001b[0;36m__getitem__\u001b[0;34m(self, key)\u001b[0m\n\u001b[1;32m   3462\u001b[0m             \u001b[0;32mif\u001b[0m \u001b[0mis_iterator\u001b[0m\u001b[0;34m(\u001b[0m\u001b[0mkey\u001b[0m\u001b[0;34m)\u001b[0m\u001b[0;34m:\u001b[0m\u001b[0;34m\u001b[0m\u001b[0;34m\u001b[0m\u001b[0m\n\u001b[1;32m   3463\u001b[0m                 \u001b[0mkey\u001b[0m \u001b[0;34m=\u001b[0m \u001b[0mlist\u001b[0m\u001b[0;34m(\u001b[0m\u001b[0mkey\u001b[0m\u001b[0;34m)\u001b[0m\u001b[0;34m\u001b[0m\u001b[0;34m\u001b[0m\u001b[0m\n\u001b[0;32m-> 3464\u001b[0;31m             \u001b[0mindexer\u001b[0m \u001b[0;34m=\u001b[0m \u001b[0mself\u001b[0m\u001b[0;34m.\u001b[0m\u001b[0mloc\u001b[0m\u001b[0;34m.\u001b[0m\u001b[0m_get_listlike_indexer\u001b[0m\u001b[0;34m(\u001b[0m\u001b[0mkey\u001b[0m\u001b[0;34m,\u001b[0m \u001b[0maxis\u001b[0m\u001b[0;34m=\u001b[0m\u001b[0;36m1\u001b[0m\u001b[0;34m)\u001b[0m\u001b[0;34m[\u001b[0m\u001b[0;36m1\u001b[0m\u001b[0;34m]\u001b[0m\u001b[0;34m\u001b[0m\u001b[0;34m\u001b[0m\u001b[0m\n\u001b[0m\u001b[1;32m   3465\u001b[0m \u001b[0;34m\u001b[0m\u001b[0m\n\u001b[1;32m   3466\u001b[0m         \u001b[0;31m# take() does not accept boolean indexers\u001b[0m\u001b[0;34m\u001b[0m\u001b[0;34m\u001b[0m\u001b[0;34m\u001b[0m\u001b[0m\n",
            "\u001b[0;32m/usr/local/lib/python3.7/dist-packages/pandas/core/indexing.py\u001b[0m in \u001b[0;36m_get_listlike_indexer\u001b[0;34m(self, key, axis)\u001b[0m\n\u001b[1;32m   1312\u001b[0m             \u001b[0mkeyarr\u001b[0m\u001b[0;34m,\u001b[0m \u001b[0mindexer\u001b[0m\u001b[0;34m,\u001b[0m \u001b[0mnew_indexer\u001b[0m \u001b[0;34m=\u001b[0m \u001b[0max\u001b[0m\u001b[0;34m.\u001b[0m\u001b[0m_reindex_non_unique\u001b[0m\u001b[0;34m(\u001b[0m\u001b[0mkeyarr\u001b[0m\u001b[0;34m)\u001b[0m\u001b[0;34m\u001b[0m\u001b[0;34m\u001b[0m\u001b[0m\n\u001b[1;32m   1313\u001b[0m \u001b[0;34m\u001b[0m\u001b[0m\n\u001b[0;32m-> 1314\u001b[0;31m         \u001b[0mself\u001b[0m\u001b[0;34m.\u001b[0m\u001b[0m_validate_read_indexer\u001b[0m\u001b[0;34m(\u001b[0m\u001b[0mkeyarr\u001b[0m\u001b[0;34m,\u001b[0m \u001b[0mindexer\u001b[0m\u001b[0;34m,\u001b[0m \u001b[0maxis\u001b[0m\u001b[0;34m)\u001b[0m\u001b[0;34m\u001b[0m\u001b[0;34m\u001b[0m\u001b[0m\n\u001b[0m\u001b[1;32m   1315\u001b[0m \u001b[0;34m\u001b[0m\u001b[0m\n\u001b[1;32m   1316\u001b[0m         if needs_i8_conversion(ax.dtype) or isinstance(\n",
            "\u001b[0;32m/usr/local/lib/python3.7/dist-packages/pandas/core/indexing.py\u001b[0m in \u001b[0;36m_validate_read_indexer\u001b[0;34m(self, key, indexer, axis)\u001b[0m\n\u001b[1;32m   1372\u001b[0m                 \u001b[0;32mif\u001b[0m \u001b[0muse_interval_msg\u001b[0m\u001b[0;34m:\u001b[0m\u001b[0;34m\u001b[0m\u001b[0;34m\u001b[0m\u001b[0m\n\u001b[1;32m   1373\u001b[0m                     \u001b[0mkey\u001b[0m \u001b[0;34m=\u001b[0m \u001b[0mlist\u001b[0m\u001b[0;34m(\u001b[0m\u001b[0mkey\u001b[0m\u001b[0;34m)\u001b[0m\u001b[0;34m\u001b[0m\u001b[0;34m\u001b[0m\u001b[0m\n\u001b[0;32m-> 1374\u001b[0;31m                 \u001b[0;32mraise\u001b[0m \u001b[0mKeyError\u001b[0m\u001b[0;34m(\u001b[0m\u001b[0;34mf\"None of [{key}] are in the [{axis_name}]\"\u001b[0m\u001b[0;34m)\u001b[0m\u001b[0;34m\u001b[0m\u001b[0;34m\u001b[0m\u001b[0m\n\u001b[0m\u001b[1;32m   1375\u001b[0m \u001b[0;34m\u001b[0m\u001b[0m\n\u001b[1;32m   1376\u001b[0m             \u001b[0mnot_found\u001b[0m \u001b[0;34m=\u001b[0m \u001b[0mlist\u001b[0m\u001b[0;34m(\u001b[0m\u001b[0mensure_index\u001b[0m\u001b[0;34m(\u001b[0m\u001b[0mkey\u001b[0m\u001b[0;34m)\u001b[0m\u001b[0;34m[\u001b[0m\u001b[0mmissing_mask\u001b[0m\u001b[0;34m.\u001b[0m\u001b[0mnonzero\u001b[0m\u001b[0;34m(\u001b[0m\u001b[0;34m)\u001b[0m\u001b[0;34m[\u001b[0m\u001b[0;36m0\u001b[0m\u001b[0;34m]\u001b[0m\u001b[0;34m]\u001b[0m\u001b[0;34m.\u001b[0m\u001b[0munique\u001b[0m\u001b[0;34m(\u001b[0m\u001b[0;34m)\u001b[0m\u001b[0;34m)\u001b[0m\u001b[0;34m\u001b[0m\u001b[0;34m\u001b[0m\u001b[0m\n",
            "\u001b[0;31mKeyError\u001b[0m: \"None of [Index(['Lviv,Ukraine'], dtype='object')] are in the [columns]\""
          ]
        }
      ]
    },
    {
      "cell_type": "code",
      "source": [
        "lm.fit(X,Y)"
      ],
      "metadata": {
        "colab": {
          "base_uri": "https://localhost:8080/",
          "height": 165
        },
        "id": "Hixs53pP1Sv5",
        "outputId": "81e8c82b-589f-4bfe-d18b-af9c15271682"
      },
      "execution_count": 9,
      "outputs": [
        {
          "output_type": "error",
          "ename": "NameError",
          "evalue": "ignored",
          "traceback": [
            "\u001b[0;31m---------------------------------------------------------------------------\u001b[0m",
            "\u001b[0;31mNameError\u001b[0m                                 Traceback (most recent call last)",
            "\u001b[0;32m<ipython-input-9-55757d5ef438>\u001b[0m in \u001b[0;36m<module>\u001b[0;34m()\u001b[0m\n\u001b[0;32m----> 1\u001b[0;31m \u001b[0mlm\u001b[0m\u001b[0;34m.\u001b[0m\u001b[0mfit\u001b[0m\u001b[0;34m(\u001b[0m\u001b[0mX\u001b[0m\u001b[0;34m,\u001b[0m\u001b[0mY\u001b[0m\u001b[0;34m)\u001b[0m\u001b[0;34m\u001b[0m\u001b[0;34m\u001b[0m\u001b[0m\n\u001b[0m",
            "\u001b[0;31mNameError\u001b[0m: name 'X' is not defined"
          ]
        }
      ]
    },
    {
      "cell_type": "code",
      "source": [
        "Yhat=lm.predict(X)\n",
        "Yhat[0:5]   "
      ],
      "metadata": {
        "id": "4e4_DNP61qAc"
      },
      "execution_count": null,
      "outputs": []
    },
    {
      "cell_type": "code",
      "source": [
        "lm.intercept_"
      ],
      "metadata": {
        "id": "IyEkGuuM1s4S"
      },
      "execution_count": null,
      "outputs": []
    },
    {
      "cell_type": "code",
      "source": [
        "lm.coef_"
      ],
      "metadata": {
        "id": "3ToJlZQO1vR5"
      },
      "execution_count": null,
      "outputs": []
    },
    {
      "cell_type": "code",
      "source": [
        "lm.intercept_"
      ],
      "metadata": {
        "id": "ZCSwUgLv12kV"
      },
      "execution_count": null,
      "outputs": []
    },
    {
      "cell_type": "code",
      "source": [
        "lm.coef_"
      ],
      "metadata": {
        "id": "I34h157N13JU"
      },
      "execution_count": null,
      "outputs": []
    },
    {
      "cell_type": "code",
      "source": [
        "# import the visualization package: seaborn\n",
        "import matplotlib.pyplot as plt\n",
        "import seaborn as sns\n",
        "%matplotlib inline "
      ],
      "metadata": {
        "id": "YSUfPhJU15Zx"
      },
      "execution_count": null,
      "outputs": []
    },
    {
      "cell_type": "code",
      "source": [
        "width = 12\n",
        "height = 10\n",
        "plt.figure(figsize=(width, height))\n",
        "sns.regplot(x=\"Lviv,Ukraine\", y=\"Imported Beer\", data=df)\n",
        "plt.ylim(0,)"
      ],
      "metadata": {
        "id": "-9Wc1w_A172U"
      },
      "execution_count": null,
      "outputs": []
    },
    {
      "cell_type": "code",
      "source": [
        "plt.figure(figsize=(width, height))\n",
        "sns.regplot(x=\"Lviv,Ukraine\", y=\"Imported Beer\", data=df)\n",
        "plt.ylim(0,)"
      ],
      "metadata": {
        "id": "WPNFkSMT2FzB"
      },
      "execution_count": null,
      "outputs": []
    },
    {
      "cell_type": "code",
      "source": [
        "Y_hat = lm.predict(Y)"
      ],
      "metadata": {
        "id": "Y56d-aPT2Rt-"
      },
      "execution_count": null,
      "outputs": []
    },
    {
      "cell_type": "code",
      "source": [
        "plt.figure(figsize=(width, height))\n",
        "\n",
        "\n",
        "ax1 = sns.distplot(df['Lviv,Ukraine'], hist=False, color=\"r\", label=\"Cold Beer\")\n",
        "sns.distplot(Y_hat, hist=False, color=\"b\", label=\"Fitted Values\" , ax=ax1)\n",
        "\n",
        "\n",
        "plt.title('Country v Beer')\n",
        "plt.xlabel('Cold Beer')\n",
        "plt.ylabel('Variables of Beer')\n",
        "\n",
        "plt.show()\n",
        "plt.close()"
      ],
      "metadata": {
        "id": "d6knZ23I2ZPU"
      },
      "execution_count": null,
      "outputs": []
    },
    {
      "cell_type": "code",
      "source": [
        "import matplotlib.pyplot as plt\n",
        "%matplotlib inline\n",
        "import seaborn as sns"
      ],
      "metadata": {
        "id": "18-xrB0X29Je"
      },
      "execution_count": null,
      "outputs": []
    }
  ]
}